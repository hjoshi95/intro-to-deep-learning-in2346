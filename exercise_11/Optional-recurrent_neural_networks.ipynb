{
 "cells": [
  {
   "cell_type": "markdown",
   "metadata": {},
   "source": [
    "# Recurrent Neural Networks (RNN)\n",
    "\n",
    "In this exercise, we will work with Recurrent Neural Networks (RNN). An RNN is a class of neural networks where the output not only depends on the current input but also on previous inputs along a given input sequence. This allows exhibiting temporal dynamic behavior and contextual information in a sequence. Common applications for RNN are:\n",
    "\n",
    "- time-series analysis\n",
    "- speech recognition\n",
    "- machine translation\n",
    "- image captioning\n",
    "- sentiment analysis\n",
    "\n",
    "\n",
    "## 0. Goal of this exercise\n",
    "\n",
    "This exercise notebook should help you to experiment with how recurrent neural networks are implemented. Therefore, this notebook is structured as follows:\n",
    "1. Check out our implementation of a simple RNN class in Pytorch.\n",
    "2. Explore the back-propagation of the gradients in the RNN and discuss the vanishing gradient problem.\n",
    "3. Implement your LSTM (Long-Short Term Memory) Network and show that this architecture improves the vanishing gradient problem.\n",
    "4. Learn how to deal with different length sequences in the same batch.\n"
   ]
  },
  {
   "cell_type": "markdown",
   "metadata": {},
   "source": [
    "## (Optional) Mount folder in Colab\n",
    "\n",
    "Uncomment the following cell to mount your gdrive if you are using the notebook in google colab:"
   ]
  },
  {
   "cell_type": "code",
   "execution_count": 1,
   "metadata": {},
   "outputs": [
    {
     "data": {
      "text/plain": [
       "\"\\nfrom google.colab import drive\\nimport os\\n\\ngdrive_path='/content/gdrive/MyDrive/i2dl/exercise_11'\\n\\n# This will mount your google drive under 'MyDrive'\\ndrive.mount('/content/gdrive', force_remount=True)\\n# In order to access the files in this notebook we have to navigate to the correct folder\\nos.chdir(gdrive_path)\\n# Check manually if all files are present\\nprint(sorted(os.listdir()))\\n\""
      ]
     },
     "execution_count": 1,
     "metadata": {},
     "output_type": "execute_result"
    }
   ],
   "source": [
    "# Use the following lines if you want to use Google Colab\n",
    "# We presume you created a folder \"i2dl\" within your main drive folder, and put the exercise there.\n",
    "# NOTE: terminate all other colab sessions that use GPU!\n",
    "# NOTE 2: Make sure the correct exercise folder (e.g exercise_11) is given.\n",
    "\n",
    "\"\"\"\n",
    "from google.colab import drive\n",
    "import os\n",
    "\n",
    "gdrive_path='/content/gdrive/MyDrive/i2dl/exercise_11'\n",
    "\n",
    "# This will mount your google drive under 'MyDrive'\n",
    "drive.mount('/content/gdrive', force_remount=True)\n",
    "# In order to access the files in this notebook we have to navigate to the correct folder\n",
    "os.chdir(gdrive_path)\n",
    "# Check manually if all files are present\n",
    "print(sorted(os.listdir()))\n",
    "\"\"\""
   ]
  },
  {
   "cell_type": "markdown",
   "metadata": {},
   "source": [
    "### Set up PyTorch environment in colab\n",
    "- (OPTIONAL) Enable GPU via Runtime --> Change runtime type --> GPU\n",
    "- Usually you don't need to run the following cell, but do run if you get errors later with google colab."
   ]
  },
  {
   "cell_type": "code",
   "execution_count": 2,
   "metadata": {},
   "outputs": [],
   "source": [
    "# Optional: install correct libraries in google colab\n",
    "# !python -m pip install torch==1.11.0+cu113 torchvision==0.12.0+cu113 -f https://download.pytorch.org/whl/torch_stable.html\n",
    "# !python -m pip install tensorboard==2.9.1\n",
    "# !python -m pip install pytorch-lightning==1.6.0"
   ]
  },
  {
   "cell_type": "markdown",
   "metadata": {},
   "source": [
    "As always, we first import some packages to setup the notebook."
   ]
  },
  {
   "cell_type": "code",
   "execution_count": 3,
   "metadata": {
    "tags": []
   },
   "outputs": [],
   "source": [
    "import numpy as np\n",
    "import matplotlib.pyplot as plt\n",
    "import torch\n",
    "from torch.autograd import Variable\n",
    "import os\n",
    "\n",
    "device = torch.device(\"cuda:0\" if torch.cuda.is_available() else \"cpu\")\n",
    "\n",
    "%matplotlib inline\n",
    "plt.rcParams['figure.figsize'] = (10.0, 8.0) # set default size of plots\n",
    "plt.rcParams['image.interpolation'] = 'nearest'\n",
    "plt.rcParams['image.cmap'] = 'gray'\n",
    "\n",
    "# for auto-reloading external modules\n",
    "# see http://stackoverflow.com/questions/1907993/autoreload-of-modules-in-ipython\n",
    "%load_ext autoreload\n",
    "%autoreload 2\n",
    "\n",
    "os.environ['KMP_DUPLICATE_LIB_OK']='True' # To prevent the kernel from dying."
   ]
  },
  {
   "cell_type": "code",
   "execution_count": 4,
   "metadata": {
    "tags": []
   },
   "outputs": [
    {
     "name": "stdout",
     "output_type": "stream",
     "text": [
      "Using python:  3.7.16\n",
      "Using torch version:  1.13.1\n",
      "Using device:  cpu\n"
     ]
    }
   ],
   "source": [
    "import platform\n",
    "print('Using python: ', platform.python_version())\n",
    "print('Using torch version: ', torch.__version__)\n",
    "print('Using device: ', device)\n",
    "# Machine: 2015 13\" Macbook Pro, i5 dual core"
   ]
  },
  {
   "attachments": {
    "image.png": {
     "image/png": "[encoded data removed]"
    }
   },
   "cell_type": "markdown",
   "metadata": {},
   "source": [
    "## 1. Simple Recurrent Neural Network\n",
    "\n",
    "The recurrent loops in an RNN allow relevant information to persist over time. A simple RNN architecture is shown here:\n",
    "<img src=http://colah.github.io/posts/2015-08-Understanding-LSTMs/img/RNN-rolled.png width=\"150\">\n",
    "\n",
    "A simple RNN takes not only an input `X` at time step `t` but also passes a hidden state that is the output of the previous time step into the network. The output of an RNN cell at time step `t` reads in Eq. 1:\n",
    "\n",
    "![image.png](attachment:image.png)\n",
    "\n",
    "\n",
    "<div class=\"alert alert-success\">\n",
    "    <h3>Task: Check Code</h3>\n",
    "\n",
    "<p>In this task, you will to learn how to implement a simple one-layer RNN as a class in Pytorch by checking the code we provide to you.</p>\n",
    "    \n",
    "<p>Check <code>exercise_code/rnn/rnn_nn.py</code> where we defined a naive <code>RNN</code> cell you see in the image below. The vanilla RNN transforms inputs and hidden states with a single linear layer followed by a <code>tanh</code> or <code>relu</code> activation.\n",
    "</p>\n",
    "\n",
    "</div>\n",
    "\n",
    "<img src=http://colah.github.io/posts/2015-08-Understanding-LSTMs/img/LSTM3-SimpleRNN.png width=\"600\">"
   ]
  },
  {
   "cell_type": "markdown",
   "metadata": {},
   "source": [
    "Luckily, Pytorch already has implemented a simple RNN in their library and you can call the RNN with <code>nn.RNN</code>. We will use the Pytorch RNN function to check if our implementation is correct and compare the output of both functions."
   ]
  },
  {
   "cell_type": "code",
   "execution_count": 5,
   "metadata": {},
   "outputs": [
    {
     "name": "stdout",
     "output_type": "stream",
     "text": [
      "Output shape test passed :), torch.Size([10, 1, 3]) == torch.Size([10, 1, 3])\n",
      "Hidden shape test passed :), torch.Size([1, 1, 3]) == torch.Size([1, 1, 3])\n",
      "\n",
      "Difference between pytorch and your RNN implementation for 'h_seq': 0.00\n",
      "Cool, you implemented a correct model.\n",
      "\n",
      "Difference between pytorch and your RNN implementation for 'h': 0.00\n",
      "Cool, you implemented a correct model.\n"
     ]
    },
    {
     "data": {
      "text/plain": [
       "True"
      ]
     },
     "execution_count": 5,
     "metadata": {},
     "output_type": "execute_result"
    }
   ],
   "source": [
    "import torch.nn as nn\n",
    "import timeit\n",
    "\n",
    "from exercise_code.rnn.rnn_nn import RNN\n",
    "from exercise_code.rnn.tests import rnn_output_test\n",
    "\n",
    "# choose your network parameters\n",
    "input_size=3\n",
    "hidden_dim=3\n",
    "seq_len= 10 \n",
    "\n",
    "# define the two models\n",
    "pytorch_rnn = nn.RNN(input_size, hidden_dim)\n",
    "i2dl_rnn = RNN(input_size, hidden_dim)\n",
    "x = torch.randn((seq_len, 1, input_size))\n",
    "\n",
    "rnn_output_test(i2dl_rnn, pytorch_rnn, x)"
   ]
  },
  {
   "cell_type": "markdown",
   "metadata": {},
   "source": [
    "Cool, our implementation is thus correct and working similarly to the Pytorch implementation. You probably already expected this. But let us show you something that might be more interesting when we compare our implementation to the Pytorch implementation. Therefore let us check out the running time of both classes: "
   ]
  },
  {
   "cell_type": "code",
   "execution_count": 6,
   "metadata": {},
   "outputs": [
    {
     "name": "stdout",
     "output_type": "stream",
     "text": [
      "Time Pytorch RNN 10000 runs: 1.480s\n",
      "Time I2DL RNN 10000 run: 3.715s\n"
     ]
    }
   ],
   "source": [
    "import timeit\n",
    "runs=10**4\n",
    "\n",
    "\n",
    "print(\"Time Pytorch RNN {} runs: {:.3f}s\".format(runs, timeit.timeit(\"pytorch_rnn(x)\", \n",
    "                                       setup=\"from __main__ import pytorch_rnn, x\", \n",
    "                                       number=runs))\n",
    "     )\n",
    "\n",
    "print(\"Time I2DL RNN {} run: {:.3f}s\".format(runs, timeit.timeit(\"i2dl_rnn(x)\", \n",
    "                                       setup=\"from __main__ import i2dl_rnn, x\", \n",
    "                                       number=runs))\n",
    "     )"
   ]
  },
  {
   "cell_type": "markdown",
   "metadata": {},
   "source": [
    "Interesting! The Pytorch module is faster and optimized in performance. Let us agree from now on to use the Pytorch module for an RNN since this will lead to better performances. However, it is always a good exercise to build the functions by yourself and we really advise you to check out the implementation!"
   ]
  },
  {
   "cell_type": "markdown",
   "metadata": {},
   "source": [
    "### 2.1. Vanishing Gradient\n",
    "\n",
    "As discussed in the lecture, the simple RNN suffers from vanishing gradients in the back-propagation. The hidden state is manipulated in every time step along the sequence and the effect of the past inputs to the final output vanishes with the distance in time. In the next cell, we will explore the vanishing effect of previous inputs in the RNN."
   ]
  },
  {
   "cell_type": "code",
   "execution_count": 7,
   "metadata": {},
   "outputs": [
    {
     "data": {
      "image/png": "[encoded data removed]",
      "text/plain": [
       "<Figure size 720x576 with 1 Axes>"
      ]
     },
     "metadata": {
      "needs_background": "light"
     },
     "output_type": "display_data"
    }
   ],
   "source": [
    "hidden_size=1\n",
    "input_size= 1\n",
    "\n",
    "time_steps=50\n",
    "rnn = RNN(input_size, hidden_size, 'tanh')\n",
    "\n",
    "for p in rnn.parameters():\n",
    "    p.data.fill_(0.1)\n",
    "\n",
    "x = torch.randn(time_steps, 1, input_size)\n",
    "x.requires_grad=True\n",
    "_, h = rnn(x)\n",
    "h.requires_grad\n",
    "h.sum().backward()\n",
    "grad_tanh=x.grad.view(-1)\n",
    "\n",
    "plt.semilogy(np.flip(abs(grad_tanh.detach().cpu().numpy())), label=\"Tanh\")\n",
    "plt.legend()\n",
    "plt.xlabel(\"Time step t\")\n",
    "plt.ylabel(\"d h_T/d x_t\")\n",
    "plt.title(\"Log plot of gradient of output wrt. input\")\n",
    "plt.show() "
   ]
  },
  {
   "cell_type": "markdown",
   "metadata": {},
   "source": [
    "<div class=\"alert alert-warning\">\n",
    "    <h3>Note</h3>\n",
    "    <p>It can be seen that the gradient of the output at time <code>t</code> with respect to to a previous input decreases exponentially. Hence, the final output does not change significantly for changes in the previous input and hence the RNN does not have memory.</p> \n",
    "<h3>Task</h3> \n",
    "<p>In order to better understand the vanishing gradient problem, calculate the gradients <code>dh_t/dV</code>, <code>dh_t /dW</code>, and <code>dh_t/dX_0</code> analytically for <code>t=3</code> and <code>h_0=0</code> using Eq. 1. This exercise might seem a little bit tedious but it is really useful. Can you explain the vanishing gradient mathematically based on your findings?</p>\n",
    "</div>"
   ]
  },
  {
   "cell_type": "markdown",
   "metadata": {},
   "source": [
    "## 3. Long-Short Term Memory Network (LSTM)\n",
    "The vanishing gradient problem had been known for some time until Schmidhuber (1997) developed the Long-Short Term Memory Network and showed that this architecture can overcome the problem. <br>\n",
    "An LSTM is a more advanced recurrent network architecture that can learn long time dependencies. The architecture of an LSTM is composed of a forget, input and output gate and the cell can remember values over arbitrary time intervals. The standard LSTM cell is shown in the figure below:\n",
    "\n",
    "\n",
    "<img src=http://colah.github.io/posts/2015-08-Understanding-LSTMs/img/LSTM3-chain.png width=\"600\">\n"
   ]
  },
  {
   "cell_type": "markdown",
   "metadata": {},
   "source": [
    "<img src=https://miro.medium.com/max/1400/1*-kBdBYzR7lpimgb3AIRkOw.png width=\"400\">\n",
    "\n",
    "Compared to a simple RNN the LSTM cell has a hidden vector and an additional cell state vector. __What size does the cell state have?__ <br>\n"
   ]
  },
  {
   "cell_type": "markdown",
   "metadata": {},
   "source": [
    "The operations inside the LSTM are given as \n",
    "\n",
    "\n",
    "<img src=https://wikimedia.org/api/rest_v1/media/math/render/svg/2db2cba6a0d878e13932fa27ce6f3fb71ad99cf1  width=\"400\" align=\"left\">"
   ]
  },
  {
   "cell_type": "markdown",
   "metadata": {},
   "source": [
    "<p class=\"aligncenter\">\n",
    "    <img src=\"images/LSTM_notations.png\" alt=\"centered image\" />\n",
    "</p>"
   ]
  },
  {
   "cell_type": "markdown",
   "metadata": {},
   "source": [
    "<div class=\"alert alert-info\">\n",
    "    <h3> Task: Implement LSTM </h3>\n",
    "    Now, it is your turn. Implement your own LSTM with the operations stated above. Go to <code>exercise_code/rnn/rnn_nn.py</code> and complete the implementation of the <code>LSTM</code> class.\n",
    "</div>"
   ]
  },
  {
   "cell_type": "markdown",
   "metadata": {},
   "source": [
    "When you are done with the task, the following cell will check whether your implementation has been correct. Similar to the RNN, Pytorch of course also provides an implementation for a LSTM which can be called with `nn.LSTM`."
   ]
  },
  {
   "cell_type": "code",
   "execution_count": 11,
   "metadata": {},
   "outputs": [
    {
     "name": "stdout",
     "output_type": "stream",
     "text": [
      "Output shape test passed :), torch.Size([10, 1, 3]) == torch.Size([10, 1, 3])\n",
      "Hidden shape test passed :), torch.Size([1, 1, 3]) == torch.Size([1, 1, 3])\n",
      "\n",
      "Difference between pytorch and your RNN implementation for 'h_seq': 0.00\n",
      "Cool, you implemented a correct model.\n",
      "\n",
      "Difference between pytorch and your RNN implementation for 'h': 0.00\n",
      "Cool, you implemented a correct model.\n",
      "\n",
      "Difference between pytorch and your RNN implementation for 'c': 0.00\n",
      "Cool, you implemented a correct model.\n"
     ]
    },
    {
     "data": {
      "text/plain": [
       "True"
      ]
     },
     "execution_count": 11,
     "metadata": {},
     "output_type": "execute_result"
    }
   ],
   "source": [
    "# TODO: Implement the LSTM class\n",
    "from exercise_code.rnn.rnn_nn import LSTM\n",
    "\n",
    "# choose your input parameters\n",
    "input_size=3\n",
    "hidden_dim=3\n",
    "seq_len= 10 \n",
    "\n",
    "# define the two models\n",
    "pytorch_lstm = nn.LSTM(input_size, hidden_dim)\n",
    "i2dl_lstm = LSTM(input_size, hidden_dim)\n",
    "\n",
    "x = torch.randn(seq_len, 1, input_size)\n",
    "rnn_output_test(i2dl_lstm, pytorch_lstm, x)"
   ]
  },
  {
   "cell_type": "markdown",
   "metadata": {},
   "source": [
    "Congratulations, if the test above has been successful, you implemented your LSTM correctly. Of course, this task is meant to pratice your understanding on the LSTM architecture. In future,  you can better use the Pytorch implementation as this will probably be faster and optimized in performance. Let us check that out:"
   ]
  },
  {
   "cell_type": "code",
   "execution_count": 12,
   "metadata": {},
   "outputs": [
    {
     "name": "stdout",
     "output_type": "stream",
     "text": [
      "Time Pytorch LSTM 10000 runs: 3.618s\n",
      "Time I2DL LSTM 10000 runs: 15.583s\n"
     ]
    }
   ],
   "source": [
    "import timeit\n",
    "runs=10**4\n",
    "\n",
    "print(\"Time Pytorch LSTM {} runs: {:.3f}s\".format(runs, timeit.timeit(\"pytorch_lstm(x)\", \n",
    "                                       setup=\"from __main__ import pytorch_lstm, x\", \n",
    "                                       number=runs))\n",
    "     )\n",
    "\n",
    "print(\"Time I2DL LSTM {} runs: {:.3f}s\".format(runs, timeit.timeit(\"i2dl_lstm(x)\", \n",
    "                                       setup=\"from __main__ import i2dl_lstm, x\", \n",
    "                                       number=runs))\n",
    "     )"
   ]
  },
  {
   "cell_type": "markdown",
   "metadata": {},
   "source": [
    "### 3.1 Explore Gradients\n",
    "Analogously to the RNN, calculate the gradients of the input wrt. to the output of the LSTM and compare it against the RNN gradients. __What do you see?__\n"
   ]
  },
  {
   "cell_type": "code",
   "execution_count": 13,
   "metadata": {},
   "outputs": [
    {
     "data": {
      "image/png": "[encoded data removed]",
      "text/plain": [
       "<Figure size 720x576 with 1 Axes>"
      ]
     },
     "metadata": {
      "needs_background": "light"
     },
     "output_type": "display_data"
    }
   ],
   "source": [
    "hidden_size = 1\n",
    "input_size = 1\n",
    "\n",
    "time_steps=50\n",
    "rnn = RNN(input_size, hidden_size)\n",
    "for p in rnn.parameters():\n",
    "    p.data.fill_(0.1)\n",
    "X = torch.randn(time_steps, 1, input_size)\n",
    "X.requires_grad = True\n",
    "_,h = rnn(X)\n",
    "h.requires_grad\n",
    "h.sum().backward()\n",
    "grad_rnn = X.grad.view(-1)\n",
    "\n",
    "lstm = LSTM(input_size, hidden_size)\n",
    "for p in lstm.parameters():\n",
    "    p.data.fill_(0.1)\n",
    "X = torch.randn(time_steps, 1, input_size)\n",
    "X.requires_grad=True\n",
    "_,(h, c) = lstm(X)\n",
    "h.sum().backward()\n",
    "grad_lstm = X.grad.view(-1)\n",
    "\n",
    "plt.semilogy(np.flip(abs(grad_lstm.detach().cpu().numpy())) , label=\"LSTM\")\n",
    "plt.semilogy(np.flip(abs(grad_rnn.detach().cpu().numpy())), label=\"RNN\")\n",
    "plt.legend()\n",
    "plt.xlabel(\"Time step t\")\n",
    "plt.ylabel(\"d h_T/d x_t\")\n",
    "plt.title(\"Log plot of gradient of output wrt. input\")\n",
    "plt.show() \n"
   ]
  },
  {
   "cell_type": "markdown",
   "metadata": {},
   "source": [
    "## 4. Exploding Gradients Problem\n",
    "\n",
    "In the previous sections, we addressed the vanishing gradients problem by switching from vanilla RNNs to LSTMs.\n",
    "\n",
    "The vanishing gradient problem occurs when weights are smaller 1. When weights are bigger than 1, we have another problem called the <b>exploding gradient</b>, where gradients end up getting very large values. This can be observed best with the `relu` RNN cells."
   ]
  },
  {
   "cell_type": "code",
   "execution_count": 14,
   "metadata": {},
   "outputs": [
    {
     "data": {
      "image/png": "[encoded data removed]",
      "text/plain": [
       "<Figure size 720x576 with 1 Axes>"
      ]
     },
     "metadata": {
      "needs_background": "light"
     },
     "output_type": "display_data"
    }
   ],
   "source": [
    "hidden_size = 1\n",
    "input_size = 1\n",
    "\n",
    "time_steps=50\n",
    "rnn = RNN(input_size, hidden_size, activation='relu')\n",
    "for p in rnn.parameters():\n",
    "    p.data.fill_(1.3)\n",
    "X = torch.randn(time_steps, 1, input_size)\n",
    "X.requires_grad = True\n",
    "_,h = rnn(X)\n",
    "h.requires_grad\n",
    "h.sum().backward()\n",
    "grad_rnn = X.grad.view(-1)  # next(rnn.parameters()).grad.view(-1)\n",
    "\n",
    "plt.semilogy(np.flip(abs(grad_rnn.detach().cpu().numpy())), label=\"RNN\")\n",
    "plt.legend()\n",
    "plt.xlabel(\"Time step t\")\n",
    "plt.ylabel(\"d h_T/d x_t\")\n",
    "plt.title(\"Log plot of gradient of output wrt. input\")\n",
    "plt.show()"
   ]
  },
  {
   "cell_type": "markdown",
   "metadata": {},
   "source": [
    "One possible solution of this problem is __gradient clipping__. Gradient clipping shrinks gradient magnitude. We can use [clip_grad_norm_](https://pytorch.org/docs/stable/generated/torch.nn.utils.clip_grad_norm_.html) function from PyTorch here. Observe the gradient magnitude is smaller."
   ]
  },
  {
   "cell_type": "code",
   "execution_count": 15,
   "metadata": {},
   "outputs": [
    {
     "data": {
      "image/png": "[encoded data removed]",
      "text/plain": [
       "<Figure size 720x576 with 1 Axes>"
      ]
     },
     "metadata": {
      "needs_background": "light"
     },
     "output_type": "display_data"
    }
   ],
   "source": [
    "from torch.nn.utils import clip_grad_norm_\n",
    "\n",
    "grad_rnn_unclipped = grad_rnn.clone()\n",
    "\n",
    "hidden_size = 1\n",
    "input_size = 1\n",
    "gclip = 40\n",
    "\n",
    "time_steps=50\n",
    "rnn = RNN(input_size, hidden_size, activation='relu')\n",
    "for p in rnn.parameters():\n",
    "    p.data.fill_(1.5)\n",
    "X = torch.randn(time_steps, 1, input_size)\n",
    "X.requires_grad = True\n",
    "_,h = rnn(X)\n",
    "h.requires_grad\n",
    "h.sum().backward()\n",
    "clip_grad_norm_(X, gclip)\n",
    "grad_rnn = X.grad.view(-1)  # next(rnn.parameters()).grad.view(-1)\n",
    "\n",
    "plt.semilogy(np.flip(abs(grad_rnn_unclipped.detach().cpu().numpy())), label=\"Not Clipped\")\n",
    "plt.semilogy(np.flip(abs(grad_rnn.detach().cpu().numpy())), label=\"Clipped\")\n",
    "plt.legend()\n",
    "plt.xlabel(\"Time step t\")\n",
    "plt.ylabel(\"d h_T/d x_t\")\n",
    "plt.title(\"Log plot of gradient of output wrt. input\")\n",
    "plt.show()"
   ]
  },
  {
   "cell_type": "markdown",
   "metadata": {},
   "source": [
    "## 5. Handling Batches with Different Sequence Lenghts\n",
    "\n",
    "Sequences used in natural language processing tasks usually have different lengths. Unlike images, we cannot guarantee sequences to have the same shape. Therefore, we need to use <b>padding</b> and <b>packing</b>. PyTorch provides some operations for that. Before moving forward, see the documentations of [pack_padded_sequence](https://pytorch.org/docs/stable/generated/torch.nn.utils.rnn.pack_padded_sequence.html) and [pad_packed_sequence](https://pytorch.org/docs/stable/generated/torch.nn.utils.rnn.pad_packed_sequence.html) functions.\n",
    "\n",
    "In this section, you don't have to implement anything. You should just understand how we handled the mini-batches with varying length sequences.\n",
    "\n",
    "Let's import the relevant functions first."
   ]
  },
  {
   "cell_type": "code",
   "execution_count": 16,
   "metadata": {},
   "outputs": [],
   "source": [
    "from torch.nn.utils.rnn import (\n",
    "    pack_padded_sequence,\n",
    "    pad_packed_sequence\n",
    ")"
   ]
  },
  {
   "cell_type": "markdown",
   "metadata": {},
   "source": [
    "We represent a padded sequence with a tensor of size `(max_len, batch_size, feature_size)` and a 1d lengths tensor of size `batch_size`. \n",
    "\n",
    "As an example, tensors below mean we have 2 sequences of lengths 3 and 2. Therefore, the elements `padded_seq[2, 1, :]` are paddings whose values we should ignore."
   ]
  },
  {
   "cell_type": "code",
   "execution_count": 17,
   "metadata": {},
   "outputs": [
    {
     "data": {
      "text/plain": [
       "(tensor([[[ 0.,  1.],\n",
       "          [ 2.,  3.]],\n",
       " \n",
       "         [[ 4.,  5.],\n",
       "          [ 6.,  7.]],\n",
       " \n",
       "         [[ 8.,  9.],\n",
       "          [10., 11.]]]), tensor([3, 2]))"
      ]
     },
     "execution_count": 17,
     "metadata": {},
     "output_type": "execute_result"
    }
   ],
   "source": [
    "padded_seq = torch.arange(0, 12).view(3, 2, 2).float()\n",
    "lengths = torch.tensor([3, 2]).long()\n",
    "\n",
    "padded_seq, lengths"
   ]
  },
  {
   "cell_type": "markdown",
   "metadata": {},
   "source": [
    "PyTorch RNNs internally use the [PackedSequence](https://pytorch.org/docs/stable/generated/torch.nn.utils.rnn.PackedSequence.html) to store and process batches with varying length sequences:"
   ]
  },
  {
   "cell_type": "code",
   "execution_count": 18,
   "metadata": {},
   "outputs": [
    {
     "data": {
      "text/plain": [
       "PackedSequence(data=tensor([[0., 1.],\n",
       "        [2., 3.],\n",
       "        [4., 5.],\n",
       "        [6., 7.],\n",
       "        [8., 9.]]), batch_sizes=tensor([2, 2, 1]), sorted_indices=None, unsorted_indices=None)"
      ]
     },
     "execution_count": 18,
     "metadata": {},
     "output_type": "execute_result"
    }
   ],
   "source": [
    "packed_seq = pack_padded_sequence(padded_seq, lengths)\n",
    "packed_seq"
   ]
  },
  {
   "cell_type": "markdown",
   "metadata": {},
   "source": [
    "`PackedSequence` is an internal representation PyTorch uses, about which you can learn more about reading the PyTorch documentation. The packing can be inverted as follows, zeroing out the padded values:"
   ]
  },
  {
   "cell_type": "code",
   "execution_count": 19,
   "metadata": {},
   "outputs": [
    {
     "data": {
      "text/plain": [
       "(tensor([[[0., 1.],\n",
       "          [2., 3.]],\n",
       " \n",
       "         [[4., 5.],\n",
       "          [6., 7.]],\n",
       " \n",
       "         [[8., 9.],\n",
       "          [0., 0.]]]), tensor([3, 2]))"
      ]
     },
     "execution_count": 19,
     "metadata": {},
     "output_type": "execute_result"
    }
   ],
   "source": [
    "pad_packed_sequence(packed_seq)"
   ]
  },
  {
   "cell_type": "markdown",
   "metadata": {},
   "source": [
    "<div class=\"alert alert-success\">\n",
    "    <h3>Task: Check Code</h3>\n",
    "<p>For convenience, we use padded representation in our RNN implementations and then ignore padded output. Check the <code>forward</code> functions of <code>RNN</code> and <code>LSTM</code> classes in <code>exercise_code/rnn/rnn_nn.py</code>. </p>\n",
    "    \n",
    "<p>For packed inputs, we switched to padded representation using <code>pad_packed_sequence</code>. In the end, we used the <code>pack_outputs</code> function to remain consistent with PyTorch.</p>\n",
    "</div>\n",
    "\n",
    "You can see that our implementation behaves identically to PyTorch RNNs."
   ]
  },
  {
   "cell_type": "code",
   "execution_count": 20,
   "metadata": {},
   "outputs": [
    {
     "ename": "TypeError",
     "evalue": "list indices must be integers or slices, not tuple",
     "output_type": "error",
     "traceback": [
      "\u001b[0;31m---------------------------------------------------------------------------\u001b[0m",
      "\u001b[0;31mTypeError\u001b[0m                                 Traceback (most recent call last)",
      "\u001b[0;32m<ipython-input-20-87bc265f148a>\u001b[0m in \u001b[0;36m<module>\u001b[0;34m\u001b[0m\n\u001b[1;32m      2\u001b[0m \u001b[0mi2dl_lstm\u001b[0m \u001b[0;34m=\u001b[0m \u001b[0mLSTM\u001b[0m\u001b[0;34m(\u001b[0m\u001b[0;36m2\u001b[0m\u001b[0;34m,\u001b[0m \u001b[0;36m2\u001b[0m\u001b[0;34m)\u001b[0m\u001b[0;34m\u001b[0m\u001b[0;34m\u001b[0m\u001b[0m\n\u001b[1;32m      3\u001b[0m \u001b[0;34m\u001b[0m\u001b[0m\n\u001b[0;32m----> 4\u001b[0;31m \u001b[0mrnn_output_test\u001b[0m\u001b[0;34m(\u001b[0m\u001b[0mi2dl_lstm\u001b[0m\u001b[0;34m,\u001b[0m \u001b[0mtorch_lstm\u001b[0m\u001b[0;34m,\u001b[0m \u001b[0mpacked_seq\u001b[0m\u001b[0;34m)\u001b[0m\u001b[0;34m\u001b[0m\u001b[0;34m\u001b[0m\u001b[0m\n\u001b[0m",
      "\u001b[0;32m~/Desktop/I2DL/exercise_11/exercise_code/rnn/tests.py\u001b[0m in \u001b[0;36mrnn_output_test\u001b[0;34m(i2dl_rnn, pytorch_rnn, x, val, tol)\u001b[0m\n\u001b[1;32m     17\u001b[0m \u001b[0;34m\u001b[0m\u001b[0m\n\u001b[1;32m     18\u001b[0m     \u001b[0moutput_pytorch\u001b[0m\u001b[0;34m,\u001b[0m \u001b[0mh_pytorch\u001b[0m \u001b[0;34m=\u001b[0m \u001b[0mpytorch_rnn\u001b[0m\u001b[0;34m(\u001b[0m\u001b[0mx\u001b[0m\u001b[0;34m)\u001b[0m\u001b[0;34m\u001b[0m\u001b[0;34m\u001b[0m\u001b[0m\n\u001b[0;32m---> 19\u001b[0;31m     \u001b[0moutput_i2dl\u001b[0m\u001b[0;34m,\u001b[0m \u001b[0mh_i2dl\u001b[0m \u001b[0;34m=\u001b[0m \u001b[0mi2dl_rnn\u001b[0m\u001b[0;34m(\u001b[0m\u001b[0mx\u001b[0m\u001b[0;34m)\u001b[0m\u001b[0;34m\u001b[0m\u001b[0;34m\u001b[0m\u001b[0m\n\u001b[0m\u001b[1;32m     20\u001b[0m \u001b[0;34m\u001b[0m\u001b[0m\n\u001b[1;32m     21\u001b[0m     \u001b[0;32mif\u001b[0m \u001b[0misinstance\u001b[0m\u001b[0;34m(\u001b[0m\u001b[0mh_pytorch\u001b[0m\u001b[0;34m,\u001b[0m \u001b[0mtuple\u001b[0m\u001b[0;34m)\u001b[0m\u001b[0;34m:\u001b[0m\u001b[0;34m\u001b[0m\u001b[0;34m\u001b[0m\u001b[0m\n",
      "\u001b[0;32m~/opt/anaconda3/envs/cs231n/lib/python3.7/site-packages/torch/nn/modules/module.py\u001b[0m in \u001b[0;36m_call_impl\u001b[0;34m(self, *input, **kwargs)\u001b[0m\n\u001b[1;32m   1192\u001b[0m         if not (self._backward_hooks or self._forward_hooks or self._forward_pre_hooks or _global_backward_hooks\n\u001b[1;32m   1193\u001b[0m                 or _global_forward_hooks or _global_forward_pre_hooks):\n\u001b[0;32m-> 1194\u001b[0;31m             \u001b[0;32mreturn\u001b[0m \u001b[0mforward_call\u001b[0m\u001b[0;34m(\u001b[0m\u001b[0;34m*\u001b[0m\u001b[0minput\u001b[0m\u001b[0;34m,\u001b[0m \u001b[0;34m**\u001b[0m\u001b[0mkwargs\u001b[0m\u001b[0;34m)\u001b[0m\u001b[0;34m\u001b[0m\u001b[0;34m\u001b[0m\u001b[0m\n\u001b[0m\u001b[1;32m   1195\u001b[0m         \u001b[0;31m# Do not call functions when jit is used\u001b[0m\u001b[0;34m\u001b[0m\u001b[0;34m\u001b[0m\u001b[0;34m\u001b[0m\u001b[0m\n\u001b[1;32m   1196\u001b[0m         \u001b[0mfull_backward_hooks\u001b[0m\u001b[0;34m,\u001b[0m \u001b[0mnon_full_backward_hooks\u001b[0m \u001b[0;34m=\u001b[0m \u001b[0;34m[\u001b[0m\u001b[0;34m]\u001b[0m\u001b[0;34m,\u001b[0m \u001b[0;34m[\u001b[0m\u001b[0;34m]\u001b[0m\u001b[0;34m\u001b[0m\u001b[0;34m\u001b[0m\u001b[0m\n",
      "\u001b[0;32m~/Desktop/I2DL/exercise_11/exercise_code/rnn/rnn_nn.py\u001b[0m in \u001b[0;36mforward\u001b[0;34m(self, x, h, c)\u001b[0m\n\u001b[1;32m    173\u001b[0m         \u001b[0;32mif\u001b[0m \u001b[0mlengths\u001b[0m \u001b[0;32mis\u001b[0m \u001b[0;32mnot\u001b[0m \u001b[0;32mNone\u001b[0m\u001b[0;34m:\u001b[0m\u001b[0;34m\u001b[0m\u001b[0;34m\u001b[0m\u001b[0m\n\u001b[1;32m    174\u001b[0m             \u001b[0mh_seq\u001b[0m\u001b[0;34m,\u001b[0m \u001b[0mh\u001b[0m \u001b[0;34m=\u001b[0m \u001b[0mpack_outputs\u001b[0m\u001b[0;34m(\u001b[0m\u001b[0mh_seq\u001b[0m\u001b[0;34m,\u001b[0m \u001b[0mlengths\u001b[0m\u001b[0;34m)\u001b[0m\u001b[0;34m\u001b[0m\u001b[0;34m\u001b[0m\u001b[0m\n\u001b[0;32m--> 175\u001b[0;31m             \u001b[0mc_seq\u001b[0m\u001b[0;34m,\u001b[0m \u001b[0mc\u001b[0m \u001b[0;34m=\u001b[0m \u001b[0mpack_outputs\u001b[0m\u001b[0;34m(\u001b[0m\u001b[0mc_seq\u001b[0m\u001b[0;34m,\u001b[0m \u001b[0mlengths\u001b[0m\u001b[0;34m)\u001b[0m\u001b[0;34m\u001b[0m\u001b[0;34m\u001b[0m\u001b[0m\n\u001b[0m\u001b[1;32m    176\u001b[0m \u001b[0;34m\u001b[0m\u001b[0m\n\u001b[1;32m    177\u001b[0m         \u001b[0;32mreturn\u001b[0m \u001b[0mh_seq\u001b[0m\u001b[0;34m,\u001b[0m \u001b[0;34m(\u001b[0m\u001b[0mh\u001b[0m\u001b[0;34m,\u001b[0m \u001b[0mc\u001b[0m\u001b[0;34m)\u001b[0m\u001b[0;34m\u001b[0m\u001b[0;34m\u001b[0m\u001b[0m\n",
      "\u001b[0;32m~/Desktop/I2DL/exercise_11/exercise_code/rnn/rnn_nn.py\u001b[0m in \u001b[0;36mpack_outputs\u001b[0;34m(state_seq, lengths)\u001b[0m\n\u001b[1;32m     13\u001b[0m     \u001b[0mfinal_states\u001b[0m \u001b[0;34m=\u001b[0m \u001b[0;34m[\u001b[0m\u001b[0;34m]\u001b[0m\u001b[0;34m\u001b[0m\u001b[0;34m\u001b[0m\u001b[0m\n\u001b[1;32m     14\u001b[0m     \u001b[0;32mfor\u001b[0m \u001b[0mb\u001b[0m\u001b[0;34m,\u001b[0m \u001b[0mt\u001b[0m \u001b[0;32min\u001b[0m \u001b[0menumerate\u001b[0m\u001b[0;34m(\u001b[0m\u001b[0mlast_indices\u001b[0m\u001b[0;34m.\u001b[0m\u001b[0mtolist\u001b[0m\u001b[0;34m(\u001b[0m\u001b[0;34m)\u001b[0m\u001b[0;34m)\u001b[0m\u001b[0;34m:\u001b[0m\u001b[0;34m\u001b[0m\u001b[0;34m\u001b[0m\u001b[0m\n\u001b[0;32m---> 15\u001b[0;31m         \u001b[0mfinal_states\u001b[0m\u001b[0;34m.\u001b[0m\u001b[0mappend\u001b[0m\u001b[0;34m(\u001b[0m\u001b[0mstate_seq\u001b[0m\u001b[0;34m[\u001b[0m\u001b[0mt\u001b[0m\u001b[0;34m,\u001b[0m \u001b[0mb\u001b[0m\u001b[0;34m]\u001b[0m\u001b[0;34m)\u001b[0m\u001b[0;34m\u001b[0m\u001b[0;34m\u001b[0m\u001b[0m\n\u001b[0m\u001b[1;32m     16\u001b[0m     \u001b[0mstate\u001b[0m \u001b[0;34m=\u001b[0m \u001b[0mtorch\u001b[0m\u001b[0;34m.\u001b[0m\u001b[0mstack\u001b[0m\u001b[0;34m(\u001b[0m\u001b[0mfinal_states\u001b[0m\u001b[0;34m)\u001b[0m\u001b[0;34m.\u001b[0m\u001b[0munsqueeze\u001b[0m\u001b[0;34m(\u001b[0m\u001b[0;36m0\u001b[0m\u001b[0;34m)\u001b[0m\u001b[0;34m\u001b[0m\u001b[0;34m\u001b[0m\u001b[0m\n\u001b[1;32m     17\u001b[0m \u001b[0;34m\u001b[0m\u001b[0m\n",
      "\u001b[0;31mTypeError\u001b[0m: list indices must be integers or slices, not tuple"
     ]
    }
   ],
   "source": [
    "torch_lstm = nn.LSTM(2, 2)\n",
    "i2dl_lstm = LSTM(2, 2)\n",
    "\n",
    "rnn_output_test(i2dl_lstm, torch_lstm, packed_seq)"
   ]
  },
  {
   "cell_type": "markdown",
   "metadata": {},
   "source": [
    "Great, you completed the optional notebook on RNNs and LSTMs. Now, you should be well prepared for this week's exercise on Sentiment Analysis! Check out the other two notebooks and have fun!"
   ]
  }
 ],
 "metadata": {
  "kernelspec": {
   "display_name": "Python 3",
   "language": "python",
   "name": "python3"
  },
  "language_info": {
   "codemirror_mode": {
    "name": "ipython",
    "version": 3
   },
   "file_extension": ".py",
   "mimetype": "text/x-python",
   "name": "python",
   "nbconvert_exporter": "python",
   "pygments_lexer": "ipython3",
   "version": "3.7.16"
  },
  "vscode": {
   "interpreter": {
    "hash": "ae3aae73068e3f6c78354faadc00aa3f23e0713f86a27300232dd83e2bc002d8"
   }
  }
 },
 "nbformat": 4,
 "nbformat_minor": 2
}
