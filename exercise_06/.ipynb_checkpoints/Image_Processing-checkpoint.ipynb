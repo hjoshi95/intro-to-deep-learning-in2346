{
 "cells": [
  {
   "cell_type": "markdown",
   "metadata": {},
   "source": [
    "Write a Python script that reads an image from a file as grayscale, and finds the four non-overlapping 5x5 patches with highest average brightness. Take the patch centers as corners of a quadrilateral, calculate its area in pixels, and draw the quadrilateral in red into the image and save it in PNG format. Use the opencv-python package for image handling. Write test cases"
   ]
  },
  {
   "cell_type": "code",
   "execution_count": 6,
   "metadata": {},
   "outputs": [],
   "source": [
    "import cv2\n",
    "import numpy as np\n"
   ]
  },
  {
   "cell_type": "code",
   "execution_count": 7,
   "metadata": {},
   "outputs": [],
   "source": [
    "image_path = 'monalisa.png'"
   ]
  },
  {
   "cell_type": "markdown",
   "metadata": {},
   "source": [
    "# Steps\n",
    "\n",
    "1. Read the image as a grayscale image \n",
    "2. Define a 5x5 convolutional kernel that convolves on top of the image and normalize it.\n",
    "3. Apply the kernel filter on the image. We want the same depth. This averages the brightness  \n",
    "4. Convert the processed image into a vector\n",
    "5. Find the top 4 brightest averages and find corresponding x,y coordinates\n",
    "6. Take centers of those indices from corners\n",
    "7. Find area from the indices \n",
    "8. Add red color to it\n",
    "9. Save it as a png\n"
   ]
  },
  {
   "cell_type": "code",
   "execution_count": 8,
   "metadata": {},
   "outputs": [],
   "source": [
    "\n",
    "def process_img(image_path):\n",
    "    # Step 1: Read the  image in grayscale\n",
    "    image = cv2.imread(image_path, cv2.IMREAD_GRAYSCALE)\n",
    "    cv2.imshow('show', image)\n",
    "    # Waits for a keystroke\n",
    "    cv2.waitKey(0)  \n",
    "    cv2.destroyAllWindows() \n",
    " \n",
    "     \n",
    "    # Step 2: Find the four non-overlapping 5x5 patches with highest average brightness\n",
    "    # average_brightness = cv2.blur(image, (5, 5))\n",
    "\n",
    "    filter_kernel = np.ones((5, 5), np.float32) / 25  # Define a 5x5 averaging kernel and normalize it \n",
    "    avg_brightness = cv2.filter2D(image, -1, filter_kernel) #Contains average brightness value for each pixel\n",
    "\n",
    "\n",
    "    #Get the coordinates of the top four patches\n",
    "\n",
    "    #a. Get average brightness matrix as a vector\n",
    "    avg_brightness_vec = avg_brightness.flatten()\n",
    "\n",
    "    #b. Get the top 4 highest brightness avg values i.e sort it \n",
    "    top4_flat = np.argpartition(avg_brightness_vec, -4)[-4:] \n",
    "\n",
    "    #c. Convert it back to 2D \n",
    "    top_indices = np.unravel_index(top4_flat, avg_brightness.shape)\n",
    "\n",
    "\n",
    "\n",
    "\n",
    "    # Step 3: Take the patch centers as corners of a quadrilateral\n",
    "        #Taking (y,x) convention since zip invariably transposes the matrix and wrap it into numpy array\n",
    "    patch_centers = np.array([(index[1] + 2, index[0] + 2) for index in zip(*top_indices)])\n",
    "\n",
    "    # Step 4: Calculate the area of the quadrilateral\n",
    "    area = cv2.contourArea(patch_centers)\n",
    "\n",
    "    # Draw the quadrilateral in red\n",
    "    image_with_quadrilateral = cv2.cvtColor(image, cv2.COLOR_GRAY2BGR)\n",
    "    cv2.polylines(image_with_quadrilateral, [patch_centers], isClosed=True, color=(0, 0, 255), thickness=2)\n",
    "\n",
    "    # Save the image with the drawn quadrilateral as a PNG\n",
    "    cv2.imwrite('output_image3.png', image_with_quadrilateral)\n",
    "    return area\n"
   ]
  },
  {
   "cell_type": "code",
   "execution_count": 9,
   "metadata": {},
   "outputs": [
    {
     "data": {
      "text/plain": [
       "1.5"
      ]
     },
     "execution_count": 9,
     "metadata": {},
     "output_type": "execute_result"
    }
   ],
   "source": [
    "process_img(image_path)"
   ]
  },
  {
   "cell_type": "code",
   "execution_count": null,
   "metadata": {},
   "outputs": [],
   "source": []
  }
 ],
 "metadata": {
  "kernelspec": {
   "display_name": "Python 3",
   "language": "python",
   "name": "python3"
  },
  "language_info": {
   "codemirror_mode": {
    "name": "ipython",
    "version": 3
   },
   "file_extension": ".py",
   "mimetype": "text/x-python",
   "name": "python",
   "nbconvert_exporter": "python",
   "pygments_lexer": "ipython3",
   "version": "3.7.16"
  }
 },
 "nbformat": 4,
 "nbformat_minor": 2
}
