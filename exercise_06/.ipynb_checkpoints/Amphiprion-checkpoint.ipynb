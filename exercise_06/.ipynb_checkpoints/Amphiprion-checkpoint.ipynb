{
 "cells": [
  {
   "cell_type": "markdown",
   "metadata": {},
   "source": [
    "Write a Python script that reads an image from a file as grayscale, and finds the four non-overlapping 5x5 patches with highest average brightness. Take the patch centers as corners of a quadrilateral, calculate its area in pixels, and draw the quadrilateral in red into the image and save it in PNG format. Use the opencv-python package for image handling"
   ]
  },
  {
   "cell_type": "markdown",
   "metadata": {},
   "source": [
    "# Steps\n",
    "1. Read the image as a grayscale image \n",
    "2. Define a 5x5 patch that slides through the image.\n",
    "3. Calculate the average brightness for each patch on this grayscale image.\n",
    "4. Sort the patches based on descending order of avg brightness values\n",
    "5. Get the top 4 patches and their center coordinates\n",
    "6. Compute the area from patch center coordinates\n",
    "7. Draw quadrilateral in red (0, 0, 255)\n",
    "8. Save it as a png"
   ]
  },
  {
   "cell_type": "code",
   "execution_count": 1,
   "metadata": {},
   "outputs": [],
   "source": [
    "import cv2\n",
    "import numpy as np"
   ]
  },
  {
   "cell_type": "code",
   "execution_count": 2,
   "metadata": {},
   "outputs": [],
   "source": [
    "def get_top_patches(image_path, patch_size = 5, num_patches = 4, stride = 5):\n",
    "    \n",
    "    image = cv2.imread(image_path,cv2.IMREAD_GRAYSCALE)\n",
    "    \n",
    "#     image = cv2.imread(image_path)\n",
    "#     gray_image = cv2.cvtColor(image, cv2.COLOR_BGR2GRAY)\n",
    "#     height, width, _ = image.shape\n",
    "\n",
    "    height, width = image.shape\n",
    "    brightest = [] #Stores the brightest patches based on their average by sliding patch window \n",
    "    \n",
    "    for i in range(0, height - patch_size + 1, stride):\n",
    "        for j in range(0, width - patch_size + 1, stride):\n",
    "            patch = image[i:i + patch_size, j:j + patch_size]\n",
    "#             patch = gray_image[i:i + patch_size, j:j + patch_size]\n",
    "            avg_brightness = np.mean(patch)\n",
    "            brightest.append(((i, j), avg_brightness)) #Append the coordinates and the avg brightness\n",
    "    \n",
    "     #Sort the patches by average brightness in descending order\n",
    "    brightest.sort(key=lambda x: x[1], reverse=True) \n",
    "    brightest = brightest[:num_patches] #get the top 4 \n",
    "    \n",
    "    return brightest\n",
    "\n",
    "\n",
    "def construct_quad(image, brightest_patches, patch_size=5):\n",
    "    \n",
    "# Uncomment below lines to find the patch coordinates and the avg brightness of the top 4 patches\n",
    "\n",
    "##########################################################################\n",
    "#     for idx, ((x, y), avg_brightness) in enumerate(brightest_patches, 1):\n",
    "#         print(f\"Patch {idx}: Position ({x}, {y}), Brightness: {avg_brightness}\")\n",
    "#         # Visualize the patches\n",
    "#         cv2.rectangle(image, (y, x), (y + patch_size, x + patch_size), (0, 0, 255), 1)\n",
    "##########################################################################    \n",
    "\n",
    "    points = []\n",
    "    for ((x, y), _) in brightest_patches:\n",
    "        center_x, center_y = x + patch_size // 2, y + patch_size // 2\n",
    "        points.append((center_y, center_x))  # Swapping x and y for OpenCV coordinates\n",
    "\n",
    "    points = np.array(points)\n",
    "    area = cv2.contourArea(points)\n",
    "    \n",
    "    points = points.reshape((-1, 1, 2))\n",
    "    cv2.polylines(image, [points], isClosed=True, color=(0, 0, 255), thickness=2)\n",
    "    \n",
    "    return area\n",
    "    \n",
    "def save_image(image, output_path):\n",
    "    # Save the image in PNG format\n",
    "    cv2.imwrite(output_path, image)\n",
    "\n"
   ]
  },
  {
   "cell_type": "markdown",
   "metadata": {},
   "source": [
    "# Testing\n"
   ]
  },
  {
   "cell_type": "code",
   "execution_count": 4,
   "metadata": {},
   "outputs": [
    {
     "name": "stdout",
     "output_type": "stream",
     "text": [
      "Area of quadrilateral in pixels: 25.0\n",
      "Image with quadrilateral saved as: processed.png\n"
     ]
    }
   ],
   "source": [
    "image_path = 'monalisa.png' # <---- Add path to your image here\n",
    "output_path = 'processed.png'\n",
    "\n",
    "brightest_patches = get_top_patches(image_path, patch_size = 5, num_patches = 4, stride = 5)\n",
    "\n",
    "image = cv2.imread(image_path)\n",
    "area = construct_quad(image, brightest_patches)\n",
    "\n",
    "save_image(image, output_path)\n",
    "\n",
    "print(f\"Area of quadrilateral in pixels: {area}\")\n",
    "print(f\"Image with quadrilateral saved as: {output_path}\")"
   ]
  },
  {
   "cell_type": "markdown",
   "metadata": {},
   "source": [
    "# Note: \n",
    "\n",
    "1. Processing is done directly on the read grayscale image instead of converting it first \n",
    "2. The quadrilateral is constructed on the original image but the coordinates used are that of the processed grayscale image\n"
   ]
  }
 ],
 "metadata": {
  "kernelspec": {
   "display_name": "Python 3",
   "language": "python",
   "name": "python3"
  },
  "language_info": {
   "codemirror_mode": {
    "name": "ipython",
    "version": 3
   },
   "file_extension": ".py",
   "mimetype": "text/x-python",
   "name": "python",
   "nbconvert_exporter": "python",
   "pygments_lexer": "ipython3",
   "version": "3.7.16"
  }
 },
 "nbformat": 4,
 "nbformat_minor": 2
}
